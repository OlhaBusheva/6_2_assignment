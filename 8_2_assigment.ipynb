{
  "cells": [
    {
      "cell_type": "markdown",
      "metadata": {
        "id": "ozOVKEIKm8aP"
      },
      "source": [
        "# Assignment 8.2\n",
        "\n",
        "> Replace all TODOs with your code.\n",
        ">\n",
        "> Do not change any other code and do not add/remove cells!"
      ]
    },
    {
      "cell_type": "markdown",
      "metadata": {
        "id": "GRPST61knD1_"
      },
      "source": [
        "## Inheritance"
      ]
    },
    {
      "cell_type": "markdown",
      "metadata": {
        "id": "TIeo4PGfnH_f"
      },
      "source": [
        "### Task 1\n",
        "\n",
        "Define a base class named `Account` to a general bank account.\n",
        "\n",
        "The class should include an initialization method (`__init__`), taking into account the number and holder name and methods for depositing money to the account and withdrawing from it. Do not forget to ensure that the account never has a negative balance.\n",
        "\n",
        "String representation (`__str__`) should be an abstract method (throw a corresponding error if it is called on the base `Account` class"
      ]
    },
    {
      "cell_type": "code",
      "execution_count": null,
      "metadata": {
        "id": "es4kM6panjNB"
      },
      "outputs": [],
      "source": [
        "class Account:\n",
        "    def __init__(self, account_number, holder_name):\n",
        "      self.account_number = account_number\n",
        "      self.holder_name = holder_name\n",
        "      self.balance = 0\n",
        "\n",
        "    def deposit(self, amount):\n",
        "      self.balance += amount\n",
        "      return f\"New balance: {self.balance}\"\n",
        "\n",
        "    def withdraw(self,amount):\n",
        "      if self.balance >= amount:\n",
        "        self.balance -= amount\n",
        "        return f\"New balance: {self.balance}\"\n",
        "      else:\n",
        "        return \"You don't have enough money\"\n",
        "\n",
        "    def __str__(self):\n",
        "      raise NotImplementedError(\"Abstract method __str__ must be implemented in subclasses.\")\n"
      ]
    },
    {
      "cell_type": "markdown",
      "metadata": {
        "id": "4FjqIBbCnqh3"
      },
      "source": [
        "### Task 2\n",
        "\n",
        "Derive a `CurrentAccount` subclass from the `Account` base class and provide its own implementation for the `__str__` method. The text representation should mention the type of account, account number, and remaining balance."
      ]
    },
    {
      "cell_type": "code",
      "execution_count": null,
      "metadata": {
        "id": "VNhS9FjCr-_k"
      },
      "outputs": [],
      "source": [
        "class CurrentAccount(Account):\n",
        "    def __init__(self, acc_number, holder_name, account_type):\n",
        "        super().__init__(acc_number, holder_name)\n",
        "        self.account_type = account_type\n",
        "\n",
        "    def __str__(self):\n",
        "      return f\"Account type: {self.account_type}, \\nAccount number: {self.account_number}, \\nRemaining balance: {self.balance}\""
      ]
    },
    {
      "cell_type": "markdown",
      "metadata": {
        "id": "h-CdQzoOtjy6"
      },
      "source": [
        "### Task 3\n",
        "\n",
        "Derive a `SavingsAccount` subclass from the `Account` base class and provide its implementation for the `__str__` method. When initializing objects of this class, the caller must provide the `interest_rate` parameter.\n",
        "\n",
        " The text representation should mention the type of account, interest rate, account number, and remaining balance.\n",
        "\n",
        "Provide additional method `add_interest` that adds interest based on `interest_rate`:\n",
        "$$new\\_balance = old\\_balance + old\\_balance * interest\\_rate$$"
      ]
    },
    {
      "cell_type": "code",
      "execution_count": null,
      "metadata": {
        "id": "akQXzV_vtweO"
      },
      "outputs": [],
      "source": [
        "class SavingsAccount(Account):\n",
        "    def __init__(self, acc_number, holder_name, account_type, interest_rate):\n",
        "        super().__init__(acc_number, holder_name)\n",
        "        self.account_type = account_type\n",
        "        self.interest_rate = interest_rate\n",
        "\n",
        "    def add_interest(self):\n",
        "      self.balance += self.balance * self.interest_rate\n",
        "\n",
        "    def __str__(self):\n",
        "      return f\"Account type: {self.account_type}, \\nInterest rate: {self.interest_rate}\\nAccount number: {self.account_number}, \\nRemaining balance: {self.balance}\"\n",
        ""
      ]
    },
    {
      "cell_type": "markdown",
      "metadata": {
        "id": "724_WyJry8i9"
      },
      "source": [
        "### Task 4\n",
        "\n",
        "Create an array with different accounts, add/withdraw money from some of them, iterate over the array, and print the text representation of each."
      ]
    },
    {
      "cell_type": "code",
      "execution_count": null,
      "metadata": {
        "id": "BDZA3L25zZEo"
      },
      "outputs": [],
      "source": [
        "accounts = []\n",
        "\n",
        "class Account:\n",
        "    def __init__(self, account_number, holder_name):\n",
        "      self.account_number = account_number\n",
        "      self.holder_name = holder_name\n",
        "      self.balance = 400\n",
        "\n",
        "    def deposit(self, amount):\n",
        "      self.balance += amount\n",
        "      return f\"New balance on account {self.account_number}: {self.balance}\"\n",
        "\n",
        "    def withdraw(self, amount):\n",
        "      if self.balance >= amount:\n",
        "        self.balance -= amount\n",
        "        return f\"New balance on account {self.account_number}: {self.balance}\"\n",
        "      else:\n",
        "        return \"You don't have enough money\"\n",
        "\n",
        "    def __str__(self):\n",
        "      return f\"Account type: {self.holder_name}, \\nAccount number: {self.account_number}, \\nRemaining balance: {self.balance}\\n\"\n",
        "\n",
        "account1 = Account(\"1111\", \"holder1\")\n",
        "account2 = Account(\"2222\", \"holder2\")\n",
        "account3 = Account(\"3333\", \"holder3\")\n",
        "\n",
        "account1.deposit(500)\n",
        "account2.deposit(600)\n",
        "\n",
        "account1.withdraw(400)\n",
        "account3.withdraw(200)\n",
        "\n",
        "for account in accounts:\n",
        "    print(account)"
      ]
    }
  ],
  "metadata": {
    "colab": {
      "provenance": []
    },
    "kernelspec": {
      "display_name": "Python 3",
      "name": "python3"
    },
    "language_info": {
      "name": "python"
    }
  },
  "nbformat": 4,
  "nbformat_minor": 0
}